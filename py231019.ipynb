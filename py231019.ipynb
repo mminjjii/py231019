{
  "nbformat": 4,
  "nbformat_minor": 0,
  "metadata": {
    "colab": {
      "provenance": [],
      "authorship_tag": "ABX9TyPCgpeZs4mlWjR8J1sUhtj0",
      "include_colab_link": true
    },
    "kernelspec": {
      "name": "python3",
      "display_name": "Python 3"
    },
    "language_info": {
      "name": "python"
    }
  },
  "cells": [
    {
      "cell_type": "markdown",
      "metadata": {
        "id": "view-in-github",
        "colab_type": "text"
      },
      "source": [
        "<a href=\"https://colab.research.google.com/github/mminjjii/py231019/blob/main/py231019.ipynb\" target=\"_parent\"><img src=\"https://colab.research.google.com/assets/colab-badge.svg\" alt=\"Open In Colab\"/></a>"
      ]
    },
    {
      "cell_type": "markdown",
      "source": [
        "1. To-Do List를 작성하시오.\n",
        "   - 2023년 10월 19일\n",
        "   - (1) 09:20 도서관에서 책빌리기\n",
        "   - (2) 11:10 컴퓨팅적사고와 기초코딩 수업\n",
        "   - (3) 13:00 점심식사\n",
        "   - (4) 14:10 교양수업\n",
        "   - (5) 16:00 파이썬 공부 및 레포트 작성\n",
        "   - (6) 17:40 저녁식사 및 집안일 돕기\n",
        "   - (7) 19:00 LOL하기\n"
      ],
      "metadata": {
        "id": "0rKTFDiDuLRo"
      }
    },
    {
      "cell_type": "code",
      "source": [
        "print(\"1.To-Do List를 작성하시오.\")\n",
        "print(\"2023년 10월 19일\")\n",
        "print(\"(1) 9:20 도서관에서 책빌리기\")\n",
        "print(\"(2) 11:10 컴퓨팅적사고와 기초코딩 수업\")\n",
        "print(\"(3) 13:00 점심식사\")\n",
        "print(\"(4) 14:10 교양수업\")\n",
        "print(\"(5) 16:00 파이썬 공부 및 레포트 작성\")\n",
        "print(\"(6) 17:40 저녁식사 및 집안일 돕기\")\n",
        "print(\"(7) 19:00 LOL하기\")\n",
        "\n",
        "\n",
        "\n",
        "\n",
        ""
      ],
      "metadata": {
        "colab": {
          "base_uri": "https://localhost:8080/"
        },
        "id": "GYG6RujnyUcX",
        "outputId": "63d5683a-de2e-4029-9d08-affb16e8d8c3"
      },
      "execution_count": 19,
      "outputs": [
        {
          "output_type": "stream",
          "name": "stdout",
          "text": [
            "1.To-Do List를 작성하시오.\n",
            "2023년 10월 19일\n",
            "(1) 9:20 도서관에서 책빌리기\n",
            "(2) 11:10 컴퓨팅적사고와 기초코딩 수업\n",
            "(3) 13:00 점심식사\n",
            "(4) 14:10 교양수업\n",
            "(5) 16:00 파이썬 공부 및 레포트 작성\n",
            "(6) 17:40 저녁식사 및 집안일 돕기\n",
            "(7) 19:00 LOL하기\n"
          ]
        }
      ]
    },
    {
      "cell_type": "markdown",
      "source": [
        "2. 인사말 출력하기\n",
        " - 식사하셨습니까? 행님"
      ],
      "metadata": {
        "id": "sKmfKCzJwXzn"
      }
    },
    {
      "cell_type": "code",
      "source": [
        "print(\"2. 인사말 출력하기\")\n",
        "print(\"식사하셨습니까? 행님\")"
      ],
      "metadata": {
        "colab": {
          "base_uri": "https://localhost:8080/"
        },
        "id": "SqpcBevC1IH3",
        "outputId": "9b87122b-cb7c-4ffd-bea8-4185ccc65639"
      },
      "execution_count": 28,
      "outputs": [
        {
          "output_type": "stream",
          "name": "stdout",
          "text": [
            "2. 인사말 출력하기\n",
            "식사하셨습니까? 행님\n"
          ]
        }
      ]
    },
    {
      "cell_type": "markdown",
      "source": [
        "3. 학생 4명의 국어점수를 입력받아서 아래와 같이 출력하시오.\n",
        " - 박보검 : 90점\n",
        " - 션     : 92점\n",
        " - 도룡용 : 80점\n",
        " - 차은우 : 99점\n",
        " - 국어 점수 순위\n",
        " - 1등 차은우\n",
        " - 2등 션\n",
        " - 3등 박보검\n",
        " - 4등 도룡용\n",
        "  "
      ],
      "metadata": {
        "id": "q2U0eSkwwtpf"
      }
    },
    {
      "cell_type": "code",
      "source": [
        "print (\"3.학생 4명의 국어점수를 입력받아서 아래와 같이 출력하시오.\")\n",
        "print (\"박보검 : 90점\")\n",
        "print (\"션 : 92점\")\n",
        "print (\"도룡용 : 80점\")\n",
        "print (\"차은우 : 99점\")\n",
        "print (\"국어 점수 순위\")\n",
        "print (\"1등 차은우\")\n",
        "print (\"2등 션\")\n",
        "print (\"3등 박보검\")\n",
        "print (\"4등 도룡용\")"
      ],
      "metadata": {
        "colab": {
          "base_uri": "https://localhost:8080/"
        },
        "id": "4MSsVbYt1kMe",
        "outputId": "768f6150-77b7-4c91-d9da-b5b883365602"
      },
      "execution_count": 65,
      "outputs": [
        {
          "output_type": "stream",
          "name": "stdout",
          "text": [
            "3.학생 4명의 국어점수를 입력받아서 아래와 같이 출력하시오.\n",
            "박보검 : 90점\n",
            "션 : 92점\n",
            "도룡용 : 80점\n",
            "차은우 : 99점\n",
            "국어 점수 순위\n",
            "1등 차은우\n",
            "2등 션\n",
            "3등 박보검\n",
            "4등 도룡용\n"
          ]
        }
      ]
    },
    {
      "cell_type": "code",
      "source": [
        "n1 = input(\"박보검 점수\")\n",
        "n2 = input(\"션 점수\")\n",
        "n3 = input(\"도룡용 점수\")\n",
        "n4 = input(\"차은우 점수\")\n",
        "print (\"1등 차은우\",n4,\"점\")\n",
        "print (\"2등 션\",n2,\"점\")\n",
        "print (\"3등 박보검\",n1,\"점\")\n",
        "print (\"4등 도룡용\",n3,\"점\")\n",
        "\n"
      ],
      "metadata": {
        "colab": {
          "base_uri": "https://localhost:8080/"
        },
        "id": "8gnTIh-z6gpl",
        "outputId": "548c4b05-085a-4390-fc2c-dbd46a057cfb"
      },
      "execution_count": 81,
      "outputs": [
        {
          "output_type": "stream",
          "name": "stdout",
          "text": [
            "박보검 점수90\n",
            "션 점수92\n",
            "도룡용 점수80\n",
            "차은우 점수99\n",
            "1등 차은우 99 점\n",
            "2등 션 92 점\n",
            "3등 박보검 90 점\n",
            "4등 도룡용 80 점\n"
          ]
        }
      ]
    },
    {
      "cell_type": "code",
      "source": [
        "n1 =int(input(\"N1의 값을 입력하시오, \"))\n",
        "n2 = int(input(\"N2의 값을 입력하시오, \"))\n",
        "total =  n1 + n2\n",
        "average = total / 2\n",
        "print(average )\n",
        "\n"
      ],
      "metadata": {
        "colab": {
          "base_uri": "https://localhost:8080/"
        },
        "id": "wSDseI592nHl",
        "outputId": "4aa5bc23-00b7-46aa-9227-84ff0b9039bb"
      },
      "execution_count": 79,
      "outputs": [
        {
          "output_type": "stream",
          "name": "stdout",
          "text": [
            "N1의 값을 입력하시오, 90\n",
            "N2의 값을 입력하시오, 92\n",
            "91.0\n"
          ]
        }
      ]
    },
    {
      "cell_type": "code",
      "execution_count": null,
      "metadata": {
        "id": "TFx1nM7QuEnm"
      },
      "outputs": [],
      "source": []
    },
    {
      "cell_type": "markdown",
      "source": [],
      "metadata": {
        "id": "jnb2EyOTuJ-R"
      }
    }
  ]
}